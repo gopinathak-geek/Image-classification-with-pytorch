{
  "nbformat": 4,
  "nbformat_minor": 0,
  "metadata": {
    "colab": {
      "provenance": [],
      "authorship_tag": "ABX9TyP14Umtw4jc1ct7HJ0uQJLs",
      "include_colab_link": true
    },
    "kernelspec": {
      "name": "python3",
      "display_name": "Python 3"
    },
    "language_info": {
      "name": "python"
    },
    "accelerator": "GPU",
    "gpuClass": "standard"
  },
  "cells": [
    {
      "cell_type": "markdown",
      "metadata": {
        "id": "view-in-github",
        "colab_type": "text"
      },
      "source": [
        "<a href=\"https://colab.research.google.com/github/gopinathak-geek/Image-classification-with-pytorch/blob/main/Feed_forward.ipynb\" target=\"_parent\"><img src=\"https://colab.research.google.com/assets/colab-badge.svg\" alt=\"Open In Colab\"/></a>"
      ]
    },
    {
      "cell_type": "code",
      "execution_count": 1,
      "metadata": {
        "id": "VxlpqzrmJVce"
      },
      "outputs": [],
      "source": [
        "import torch"
      ]
    },
    {
      "cell_type": "code",
      "source": [
        "# create sample input and output\n",
        "x = torch.randn(100, 4)\n",
        "y = torch.randn(100, 1)"
      ],
      "metadata": {
        "id": "PvwuqCywJWcg"
      },
      "execution_count": 2,
      "outputs": []
    },
    {
      "cell_type": "code",
      "source": [
        "from torch.utils.data import Dataset, DataLoader\n",
        "\n",
        "# Dataset\n",
        "class Dataset(Dataset):\n",
        "  def __init__(self, x, y):\n",
        "    self.x = x\n",
        "    self.y = y\n",
        "\n",
        "  def __getitem__(self, index):\n",
        "    return self.x[index], self.y[index]\n",
        "\n",
        "  def __len__(self):\n",
        "    return len(self.x)\n"
      ],
      "metadata": {
        "id": "lKedMOcSJqRd"
      },
      "execution_count": 3,
      "outputs": []
    },
    {
      "cell_type": "code",
      "source": [
        "train_dataset = Dataset(x, y)\n",
        "train_dataset[0]"
      ],
      "metadata": {
        "colab": {
          "base_uri": "https://localhost:8080/"
        },
        "id": "fE0EIXWULGfj",
        "outputId": "cced15da-55b5-4ae4-ba9a-74504bc3d5c7"
      },
      "execution_count": 4,
      "outputs": [
        {
          "output_type": "execute_result",
          "data": {
            "text/plain": [
              "(tensor([ 0.2102, -0.7499,  0.0947, -1.0889]), tensor([0.7577]))"
            ]
          },
          "metadata": {},
          "execution_count": 4
        }
      ]
    },
    {
      "cell_type": "code",
      "source": [
        "Batch_SIZE = 10\n",
        "\n",
        "# Dataloader\n",
        "train_DataLoader = DataLoader(dataset=train_dataset, batch_size=Batch_SIZE, shuffle=True)\n",
        "\n",
        "train_DataLoader\n"
      ],
      "metadata": {
        "colab": {
          "base_uri": "https://localhost:8080/"
        },
        "id": "rRaqQfU7J-UQ",
        "outputId": "7865dd8e-dc7f-4d85-984c-d2cc3559b930"
      },
      "execution_count": 5,
      "outputs": [
        {
          "output_type": "execute_result",
          "data": {
            "text/plain": [
              "<torch.utils.data.dataloader.DataLoader at 0x7f3762fcd7d0>"
            ]
          },
          "metadata": {},
          "execution_count": 5
        }
      ]
    },
    {
      "cell_type": "code",
      "source": [
        "import torch.nn as nn\n",
        "\n",
        "class LearningModel(nn.Module):\n",
        "  def __init__(self):\n",
        "    super(LearningModel, self).__init__()\n",
        "    self.layer_1 = nn.Linear(4, 8) \n",
        "    self.layer_2 = nn.Linear(8, 16) \n",
        "    self.layer_3 = nn.Linear(16, 1) \n",
        "    self.relu = nn.ReLU()\n",
        "\n",
        "  \n",
        "  def forward(self, inputs):\n",
        "    x = self.layer_1(inputs)\n",
        "    x = self.relu(x)\n",
        "    x = self.layer_2(x)\n",
        "    x = self.relu(x)\n",
        "    x = self.layer_3(x)\n",
        "    return x"
      ],
      "metadata": {
        "id": "iL6uY4sENtLZ"
      },
      "execution_count": 6,
      "outputs": []
    },
    {
      "cell_type": "code",
      "source": [
        "# Device\n",
        "\n",
        "device = torch.device(\"cuda:0\" if torch.cuda.is_available() else \"cpu\")\n",
        "print(device)"
      ],
      "metadata": {
        "colab": {
          "base_uri": "https://localhost:8080/"
        },
        "id": "3NNMlbn9RM8J",
        "outputId": "52f8317c-ca98-4998-9ab4-cc4ff3d378eb"
      },
      "execution_count": 7,
      "outputs": [
        {
          "output_type": "stream",
          "name": "stdout",
          "text": [
            "cuda:0\n"
          ]
        }
      ]
    },
    {
      "cell_type": "code",
      "source": [
        "model = LearningModel()\n",
        "model.to(device)\n",
        "print(model)"
      ],
      "metadata": {
        "colab": {
          "base_uri": "https://localhost:8080/"
        },
        "id": "NhB76MWITmc4",
        "outputId": "aa85b216-e402-4967-c047-85df86a9a9b3"
      },
      "execution_count": 8,
      "outputs": [
        {
          "output_type": "stream",
          "name": "stdout",
          "text": [
            "LearningModel(\n",
            "  (layer_1): Linear(in_features=4, out_features=8, bias=True)\n",
            "  (layer_2): Linear(in_features=8, out_features=16, bias=True)\n",
            "  (layer_3): Linear(in_features=16, out_features=1, bias=True)\n",
            "  (relu): ReLU()\n",
            ")\n"
          ]
        }
      ]
    },
    {
      "cell_type": "code",
      "source": [
        "LEARNING_RATE = 0.001\n",
        "criterion = nn.MSELoss()\n",
        "optimizer = torch.optim.Adam(model.parameters(), lr=LEARNING_RATE)\n"
      ],
      "metadata": {
        "id": "2V18AjuAOn75"
      },
      "execution_count": 9,
      "outputs": []
    },
    {
      "cell_type": "code",
      "source": [],
      "metadata": {
        "colab": {
          "base_uri": "https://localhost:8080/"
        },
        "id": "LFQoodqfQd-8",
        "outputId": "6548640c-2615-462c-b3bf-b5e713ee9027"
      },
      "execution_count": 10,
      "outputs": [
        {
          "output_type": "execute_result",
          "data": {
            "text/plain": [
              "LearningModel(\n",
              "  (layer_1): Linear(in_features=4, out_features=8, bias=True)\n",
              "  (layer_2): Linear(in_features=8, out_features=16, bias=True)\n",
              "  (layer_3): Linear(in_features=16, out_features=1, bias=True)\n",
              "  (relu): ReLU()\n",
              ")"
            ]
          },
          "metadata": {},
          "execution_count": 10
        }
      ]
    },
    {
      "cell_type": "code",
      "source": [
        "EPOCHS = 100\n",
        "\n",
        "history = []\n",
        "for epoch in range(EPOCHS):\n",
        "  model.train()\n",
        "  epoch_loss = 0\n",
        "  for x, y in train_DataLoader:\n",
        "    x = x.to(device)\n",
        "    y = y.to(device)\n",
        "\n",
        "    y_pred = model(x)\n",
        "    loss = criterion(y_pred, y)\n",
        "\n",
        "    optimizer.zero_grad()\n",
        "    loss.backward()\n",
        "    optimizer.step()\n",
        "\n",
        "    epoch_loss += loss.item()\n",
        "  history.append(epoch_loss/len(train_DataLoader))\n",
        "  print(f'Epoch: {epoch+1:03} | Loss: {epoch_loss/len(train_DataLoader):.5f}')"
      ],
      "metadata": {
        "id": "0FiNmoXFTiGX",
        "outputId": "98103845-5804-43e1-c5fd-a9ed6e201ce4",
        "colab": {
          "base_uri": "https://localhost:8080/"
        }
      },
      "execution_count": 15,
      "outputs": [
        {
          "output_type": "stream",
          "name": "stdout",
          "text": [
            "Epoch: 001 | Loss: 0.51058\n",
            "Epoch: 002 | Loss: 0.50701\n",
            "Epoch: 003 | Loss: 0.50812\n",
            "Epoch: 004 | Loss: 0.50659\n",
            "Epoch: 005 | Loss: 0.50756\n",
            "Epoch: 006 | Loss: 0.50524\n",
            "Epoch: 007 | Loss: 0.50362\n",
            "Epoch: 008 | Loss: 0.50488\n",
            "Epoch: 009 | Loss: 0.50499\n",
            "Epoch: 010 | Loss: 0.50295\n",
            "Epoch: 011 | Loss: 0.50252\n",
            "Epoch: 012 | Loss: 0.50066\n",
            "Epoch: 013 | Loss: 0.50122\n",
            "Epoch: 014 | Loss: 0.49951\n",
            "Epoch: 015 | Loss: 0.49856\n",
            "Epoch: 016 | Loss: 0.49772\n",
            "Epoch: 017 | Loss: 0.49912\n",
            "Epoch: 018 | Loss: 0.49735\n",
            "Epoch: 019 | Loss: 0.49597\n",
            "Epoch: 020 | Loss: 0.49551\n",
            "Epoch: 021 | Loss: 0.49597\n",
            "Epoch: 022 | Loss: 0.49568\n",
            "Epoch: 023 | Loss: 0.49352\n",
            "Epoch: 024 | Loss: 0.49337\n",
            "Epoch: 025 | Loss: 0.49200\n",
            "Epoch: 026 | Loss: 0.49280\n",
            "Epoch: 027 | Loss: 0.49226\n",
            "Epoch: 028 | Loss: 0.49007\n",
            "Epoch: 029 | Loss: 0.48941\n",
            "Epoch: 030 | Loss: 0.48959\n",
            "Epoch: 031 | Loss: 0.48811\n",
            "Epoch: 032 | Loss: 0.48772\n",
            "Epoch: 033 | Loss: 0.48778\n",
            "Epoch: 034 | Loss: 0.48566\n",
            "Epoch: 035 | Loss: 0.48789\n",
            "Epoch: 036 | Loss: 0.48648\n",
            "Epoch: 037 | Loss: 0.48473\n",
            "Epoch: 038 | Loss: 0.48493\n",
            "Epoch: 039 | Loss: 0.48399\n",
            "Epoch: 040 | Loss: 0.48183\n",
            "Epoch: 041 | Loss: 0.48303\n",
            "Epoch: 042 | Loss: 0.48087\n",
            "Epoch: 043 | Loss: 0.48055\n",
            "Epoch: 044 | Loss: 0.47889\n",
            "Epoch: 045 | Loss: 0.47843\n",
            "Epoch: 046 | Loss: 0.47821\n",
            "Epoch: 047 | Loss: 0.47692\n",
            "Epoch: 048 | Loss: 0.47667\n",
            "Epoch: 049 | Loss: 0.47536\n",
            "Epoch: 050 | Loss: 0.47601\n",
            "Epoch: 051 | Loss: 0.47564\n",
            "Epoch: 052 | Loss: 0.47512\n",
            "Epoch: 053 | Loss: 0.47371\n",
            "Epoch: 054 | Loss: 0.47375\n",
            "Epoch: 055 | Loss: 0.47305\n",
            "Epoch: 056 | Loss: 0.47229\n",
            "Epoch: 057 | Loss: 0.47219\n",
            "Epoch: 058 | Loss: 0.47210\n",
            "Epoch: 059 | Loss: 0.47073\n",
            "Epoch: 060 | Loss: 0.47031\n",
            "Epoch: 061 | Loss: 0.47066\n",
            "Epoch: 062 | Loss: 0.46844\n",
            "Epoch: 063 | Loss: 0.46962\n",
            "Epoch: 064 | Loss: 0.47036\n",
            "Epoch: 065 | Loss: 0.46987\n",
            "Epoch: 066 | Loss: 0.46888\n",
            "Epoch: 067 | Loss: 0.46579\n",
            "Epoch: 068 | Loss: 0.46416\n",
            "Epoch: 069 | Loss: 0.46433\n",
            "Epoch: 070 | Loss: 0.46407\n",
            "Epoch: 071 | Loss: 0.46308\n",
            "Epoch: 072 | Loss: 0.46141\n",
            "Epoch: 073 | Loss: 0.46089\n",
            "Epoch: 074 | Loss: 0.46149\n",
            "Epoch: 075 | Loss: 0.46043\n",
            "Epoch: 076 | Loss: 0.45929\n",
            "Epoch: 077 | Loss: 0.45798\n",
            "Epoch: 078 | Loss: 0.45832\n",
            "Epoch: 079 | Loss: 0.45778\n",
            "Epoch: 080 | Loss: 0.45743\n",
            "Epoch: 081 | Loss: 0.45664\n",
            "Epoch: 082 | Loss: 0.45581\n",
            "Epoch: 083 | Loss: 0.45623\n",
            "Epoch: 084 | Loss: 0.45441\n",
            "Epoch: 085 | Loss: 0.45429\n",
            "Epoch: 086 | Loss: 0.45423\n",
            "Epoch: 087 | Loss: 0.45344\n",
            "Epoch: 088 | Loss: 0.45354\n",
            "Epoch: 089 | Loss: 0.45317\n",
            "Epoch: 090 | Loss: 0.45298\n",
            "Epoch: 091 | Loss: 0.45518\n",
            "Epoch: 092 | Loss: 0.45089\n",
            "Epoch: 093 | Loss: 0.45006\n",
            "Epoch: 094 | Loss: 0.45064\n",
            "Epoch: 095 | Loss: 0.45025\n",
            "Epoch: 096 | Loss: 0.44881\n",
            "Epoch: 097 | Loss: 0.45109\n",
            "Epoch: 098 | Loss: 0.44920\n",
            "Epoch: 099 | Loss: 0.44790\n",
            "Epoch: 100 | Loss: 0.44640\n",
            "[0.5105775117874145, 0.5070095039904118, 0.5081227861344815, 0.5065888017416, 0.5075581483542919, 0.5052434772253036, 0.5036168798804284, 0.504880977421999, 0.5049857720732689, 0.5029455408453941, 0.502524521946907, 0.5006563447415828, 0.5012211814522743, 0.49951250180602075, 0.4985601931810379, 0.49771817699074744, 0.49912432953715324, 0.4973509401082993, 0.4959710165858269, 0.49550594091415406, 0.4959749385714531, 0.4956760868430138, 0.4935226380825043, 0.4933692790567875, 0.4920014292001724, 0.4927998587489128, 0.49226344376802444, 0.4900683403015137, 0.4894142895936966, 0.4895902454853058, 0.48811098262667657, 0.4877224937081337, 0.4877797454595566, 0.48565814197063445, 0.48789153546094893, 0.48648350313305855, 0.48472673892974855, 0.48492947667837144, 0.48398792594671247, 0.4818303510546684, 0.4830335460603237, 0.480868923664093, 0.48055277243256567, 0.4788892261683941, 0.47842928394675255, 0.4782057911157608, 0.47691610231995585, 0.47666812539100645, 0.47535836733877657, 0.47600988298654556, 0.47564424723386767, 0.4751201719045639, 0.4737103208899498, 0.4737481988966465, 0.47304998636245726, 0.4722888320684433, 0.47218946292996405, 0.47209591418504715, 0.47073363438248633, 0.47031363695859907, 0.47065962199121714, 0.4684422791004181, 0.4696214981377125, 0.4703591413795948, 0.469865158200264, 0.4688760325312614, 0.4657897315919399, 0.46416317522525785, 0.4643279373645782, 0.464072085916996, 0.4630765147507191, 0.46141029223799707, 0.4608919590711594, 0.4614896409213543, 0.46043101884424686, 0.4592934638261795, 0.45797924846410754, 0.4583159312605858, 0.45777897611260415, 0.4574290044605732, 0.45663918256759645, 0.4558142587542534, 0.4562293320894241, 0.45440576747059824, 0.4542861670255661, 0.45423009246587753, 0.4534401334822178, 0.4535435765981674, 0.4531703293323517, 0.45298237949609754, 0.4551774010062218, 0.45089328587055205, 0.4500612646341324, 0.4506384313106537, 0.4502501104027033, 0.4488088067620993, 0.45108851939439776, 0.44920049533247947, 0.44789517521858213, 0.446399898827076]\n"
          ]
        }
      ]
    },
    {
      "cell_type": "code",
      "source": [
        "import matplotlib.pyplot as plt\n",
        "\n",
        "plt.title('Loss Vs Epoch')\n",
        "plt.xlabel('Epoch')\n",
        "plt.ylabel('Loss')\n",
        "plt.plot(history, '-r')\n"
      ],
      "metadata": {
        "id": "YiyZy2AffMv6",
        "outputId": "2caa639a-c68e-49be-d124-99e88c1a55a7",
        "colab": {
          "base_uri": "https://localhost:8080/",
          "height": 312
        }
      },
      "execution_count": 20,
      "outputs": [
        {
          "output_type": "execute_result",
          "data": {
            "text/plain": [
              "[<matplotlib.lines.Line2D at 0x7f36e0347cd0>]"
            ]
          },
          "metadata": {},
          "execution_count": 20
        },
        {
          "output_type": "display_data",
          "data": {
            "text/plain": [
              "<Figure size 432x288 with 1 Axes>"
            ],
            "image/png": "[encoded data removed]"
          },
          "metadata": {
            "needs_background": "light"
          }
        }
      ]
    }
  ]
}